{
 "cells": [
  {
   "cell_type": "code",
   "execution_count": 8,
   "metadata": {},
   "outputs": [
    {
     "name": "stdout",
     "output_type": "stream",
     "text": [
      "Tensor(\"gradients/dense/MatMul_grad/tuple/control_dependency_1:0\", shape=(4, 4), dtype=float32)\nTensor(\"gradients/dense/BiasAdd_grad/tuple/control_dependency_1:0\", shape=(4,), dtype=float32)\nTensor(\"gradients/dense_1/MatMul_grad/tuple/control_dependency_1:0\", shape=(4, 1), dtype=float32)\nTensor(\"gradients/dense_1/BiasAdd_grad/tuple/control_dependency_1:0\", shape=(1,), dtype=float32)\n[<tf.Tensor 'Placeholder_1:0' shape=(4, 4) dtype=float32>, <tf.Tensor 'Placeholder_2:0' shape=(4,) dtype=float32>, <tf.Tensor 'Placeholder_3:0' shape=(4, 1) dtype=float32>, <tf.Tensor 'Placeholder_4:0' shape=(1,) dtype=float32>]\n"
     ]
    }
   ],
   "source": [
    "import tensorflow as tf\n",
    "import gym\n",
    "import numpy as np\n",
    "\n",
    "tf.reset_default_graph()\n",
    "\n",
    "n_inputs = 4\n",
    "n_hidden = 4\n",
    "n_outputs = 1\n",
    "\n",
    "learning_rate = 0.01\n",
    "\n",
    "initializer = tf.variance_scaling_initializer()\n",
    "\n",
    "X = tf.placeholder(tf.float32, shape=[None, n_inputs])\n",
    "\n",
    "hidden = tf.layers.dense(X, n_hidden, activation=tf.nn.elu, kernel_initializer=initializer)\n",
    "logits = tf.layers.dense(hidden, n_outputs)\n",
    "outputs = tf.nn.sigmoid(logits)  # probability of action 0 (left)\n",
    "p_left_and_right = tf.concat(axis=1, values=[outputs, 1 - outputs])\n",
    "action = tf.multinomial(tf.log(p_left_and_right), num_samples=1)\n",
    "\n",
    "y = 1. - tf.to_float(action)\n",
    "cross_entropy = tf.nn.sigmoid_cross_entropy_with_logits(labels=y, logits=logits)\n",
    "optimizer = tf.train.AdamOptimizer(learning_rate)\n",
    "grads_and_vars = optimizer.compute_gradients(cross_entropy)\n",
    "gradients = [grad for grad, variable in grads_and_vars]\n",
    "gradient_placeholders = []\n",
    "grads_and_vars_feed = []\n",
    "for grad, variable in grads_and_vars:\n",
    "    print(grad)\n",
    "    gradient_placeholder = tf.placeholder(tf.float32, shape=grad.get_shape())\n",
    "    gradient_placeholders.append(gradient_placeholder)\n",
    "    grads_and_vars_feed.append((gradient_placeholder, variable))\n",
    "training_op = optimizer.apply_gradients(grads_and_vars_feed)\n",
    "\n",
    "init = tf.global_variables_initializer()\n",
    "saver = tf.train.Saver()\n",
    "\n",
    "print(gradient_placeholders)\n",
    "\n",
    "def discount_rewards(rewards, discount_rate):\n",
    "    discounted_rewards = np.zeros(len(rewards))\n",
    "    cumulative_rewards = 0\n",
    "    for step in reversed(range(len(rewards))):\n",
    "        cumulative_rewards = rewards[step] + cumulative_rewards * discount_rate\n",
    "        discounted_rewards[step] = cumulative_rewards\n",
    "    return discounted_rewards\n",
    "\n",
    "def discount_and_normalize_rewards(all_rewards, discount_rate):\n",
    "    all_discounted_rewards = [discount_rewards(rewards, discount_rate) for rewards in all_rewards]\n",
    "    flat_rewards = np.concatenate(all_discounted_rewards)\n",
    "    reward_mean = flat_rewards.mean()\n",
    "    reward_std = flat_rewards.std()\n",
    "    return [(discounted_rewards - reward_mean)/reward_std for discounted_rewards in all_discounted_rewards]"
   ]
  },
  {
   "cell_type": "code",
   "execution_count": 9,
   "metadata": {
    "collapsed": false
   },
   "outputs": [
    {
     "name": "stdout",
     "output_type": "stream",
     "text": [
      "\u001b[33mWARN: gym.spaces.Box autodetected dtype as <class 'numpy.float32'>. Please provide explicit dtype.\u001b[0m\n.\n.\n.\n.\n"
     ]
    }
   ],
   "source": [
    "env = gym.make(\"CartPole-v0\")\n",
    "\n",
    "n_games_per_update = 10\n",
    "n_max_steps = 1000\n",
    "save_iterations = 10\n",
    "discount_rate = 0.95\n",
    "\n",
    "with tf.Session() as sess:\n",
    "    init.run()\n",
    "    \n",
    "    all_rewards = []\n",
    "    all_gradients = []\n",
    "    \n",
    "    \n",
    "    current_rewards = []\n",
    "    current_gradients = []\n",
    "    obs = env.reset()\n",
    "    for step in range(n_max_steps):\n",
    "        action_val, gradients_val = sess.run([action, gradients], feed_dict={X: obs.reshape(1, n_inputs)})\n",
    "        obs, reward, done, info = env.step(action_val[0][0])\n",
    "        \n",
    "        # print(gradients_val)\n",
    "        current_rewards.append(reward)\n",
    "        current_gradients.append(gradients_val)\n",
    "        #print(\":\",gradients_val[0])\n",
    "        #print(\"::\",gradients_val[1])\n",
    "        #print(\":::\",gradients_val[2])\n",
    "        #print(\"::::\",gradients_val[3])\n",
    "        if done:\n",
    "            break\n",
    "            \n",
    "    \n",
    "        \n",
    "    all_rewards.append(current_rewards)\n",
    "    all_gradients.append(current_gradients)\n",
    "\n",
    "\n",
    "    all_rewards = discount_and_normalize_rewards(all_rewards, discount_rate=discount_rate)\n",
    "    \n",
    "    \n",
    "    feed_dict = {}\n",
    "    for var_index, gradient_placeholder in enumerate(gradient_placeholders):\n",
    "        mean_gradients = np.mean([reward * all_gradients[game_index][step][var_index]\n",
    "                                  for game_index, rewards in enumerate(all_rewards)\n",
    "                                  for step, reward in enumerate(rewards)], axis=0)\n",
    "        feed_dict[gradient_placeholder] = mean_gradients\n",
    "    sess.run(training_op, feed_dict=feed_dict)\n"
   ]
  },
  {
   "cell_type": "code",
   "execution_count": 26,
   "metadata": {},
   "outputs": [
    {
     "data": {
      "text/plain": [
       "[array([-0.5227733 , -0.95049691, -1.18812114]),\n array([-1.18812114]),\n array([1.18812114]),\n array([0.5227733 , 0.95049691, 1.18812114])]"
      ]
     },
     "execution_count": 26,
     "metadata": {},
     "output_type": "execute_result"
    }
   ],
   "source": [
    "discount_and_normalize_rewards([[10, 0, -50],[-50],[50],[-10,0,50]], discount_rate=0.8)"
   ]
  },
  {
   "cell_type": "code",
   "execution_count": 52,
   "metadata": {},
   "outputs": [
    {
     "data": {
      "text/plain": [
       "array([[[2.5, 3.5],\n        [4.5, 5.5]],\n\n       [[1. , 2. ],\n        [3. , 4. ]]])"
      ]
     },
     "execution_count": 52,
     "metadata": {},
     "output_type": "execute_result"
    }
   ],
   "source": [
    "np.mean([\n",
    "        [\n",
    "            [np.array([2.,3.]), np.array([4.,5.])], \n",
    "            [np.array([1.,2.]), np.array([3.,4.])]\n",
    "        ],\n",
    "        [\n",
    "            [np.array([3.,4.]), np.array([5.,6.])],\n",
    "            [np.array([1.,2.]), np.array([3.,4.])]\n",
    "        ]\n",
    "        ], axis=0)"
   ]
  },
  {
   "cell_type": "code",
   "execution_count": 93,
   "metadata": {},
   "outputs": [
    {
     "data": {
      "text/plain": [
       "[[[array([1., 2., 7.]), array([7., 8.])],\n  [array([3., 4., 8.]), array([3., 5.])]],\n [[array([ 7.,  9., 10.]), array([7., 8.])],\n  [array([ 3.,  9., 11.]), array([3., 5.])]]]"
      ]
     },
     "execution_count": 93,
     "metadata": {},
     "output_type": "execute_result"
    }
   ],
   "source": [
    "b=[]\n",
    "\n",
    "a=[]\n",
    "a.append([np.array([1.,2.,7.]), np.array([7.,8.])])\n",
    "a.append([np.array([3.,4.,8.]), np.array([3.,5.])])\n",
    "\n",
    "b.append(a)\n",
    "\n",
    "a=[]\n",
    "a.append([np.array([7.,9.,10.]), np.array([7.,8.])])\n",
    "a.append([np.array([3.,9.,11.]), np.array([3.,5.])])\n",
    "\n",
    "b.append(a)\n",
    "\n",
    "b"
   ]
  },
  {
   "cell_type": "code",
   "execution_count": 112,
   "metadata": {},
   "outputs": [
    {
     "data": {
      "text/plain": [
       "[array([1., 2., 7.]),\n array([3., 4., 8.]),\n array([ 7.,  9., 10.]),\n array([ 3.,  9., 11.])]"
      ]
     },
     "execution_count": 112,
     "metadata": {},
     "output_type": "execute_result"
    }
   ],
   "source": [
    "c=[1 - 1 + b[i][step][0]\n",
    "   for i, grads in enumerate(b)\n",
    "    for step, grad in enumerate(grads)]\n",
    "c"
   ]
  },
  {
   "cell_type": "code",
   "execution_count": 113,
   "metadata": {},
   "outputs": [
    {
     "data": {
      "text/plain": [
       "array([3.5, 6. , 9. ])"
      ]
     },
     "execution_count": 113,
     "metadata": {},
     "output_type": "execute_result"
    }
   ],
   "source": [
    "np.mean(c, axis=0)"
   ]
  },
  {
   "cell_type": "code",
   "execution_count": null,
   "metadata": {},
   "outputs": [],
   "source": []
  }
 ],
 "metadata": {},
 "nbformat": 4,
 "nbformat_minor": 0
}
